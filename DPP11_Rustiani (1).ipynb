{
  "cells": [
    {
      "cell_type": "markdown",
      "metadata": {
        "id": "SJwfS_FFrkxL"
      },
      "source": [
        "<h3>Soal Latihan</h3>\n",
        "<ol>\n",
        "    <li>Buatlah fungsi untuk menjumlahkan total nilai dari list</li>\n",
        "    <li>Buatlah fungsi untuk mencari nilai terbesar dari sekumpulan list </li>\n",
        "    <li>Buatlah fungsi untuk menjumlahkan 2 buah list </li>\n",
        "</ol>\n"
      ]
    },
    {
      "cell_type": "code",
      "execution_count": 1,
      "metadata": {
        "id": "GX6vdDxArkxM",
        "colab": {
          "base_uri": "https://localhost:8080/"
        },
        "outputId": "e45a447c-5db2-4d38-9146-0e41c8d475ac"
      },
      "outputs": [
        {
          "output_type": "execute_result",
          "data": {
            "text/plain": [
              "550"
            ]
          },
          "metadata": {},
          "execution_count": 1
        }
      ],
      "source": [
        "#Soal 1\n",
        "def TotalNilaiList(listnya):\n",
        " jumlah = sum(listnya)\n",
        " return jumlah\n",
        " \n",
        "tilist = [10,20,30,40,50,60,70,80,90,100]\n",
        "\n",
        "TotalNilaiList(tilist)"
      ]
    },
    {
      "cell_type": "code",
      "execution_count": 2,
      "metadata": {
        "id": "lV_YgkP0rkxN",
        "colab": {
          "base_uri": "https://localhost:8080/"
        },
        "outputId": "4466d73d-910c-4fdc-be12-5d9038ed0146"
      },
      "outputs": [
        {
          "output_type": "execute_result",
          "data": {
            "text/plain": [
              "100"
            ]
          },
          "metadata": {},
          "execution_count": 2
        }
      ],
      "source": [
        "#Soal 2\n",
        "def TotalNilaiList(listnya):\n",
        "  maxval = max(listnya)\n",
        "  return maxval\n",
        " \n",
        "tilist = [10,20,30,40,50,60,70,80,90,100]\n",
        "\n",
        "TotalNilaiList(tilist)"
      ]
    },
    {
      "cell_type": "code",
      "execution_count": 3,
      "metadata": {
        "id": "CMhlVQ2yrkxN",
        "colab": {
          "base_uri": "https://localhost:8080/"
        },
        "outputId": "e99af655-3aa5-4787-cc4f-9f61c259305e"
      },
      "outputs": [
        {
          "output_type": "execute_result",
          "data": {
            "text/plain": [
              "2100"
            ]
          },
          "metadata": {},
          "execution_count": 3
        }
      ],
      "source": [
        "#Soal 3\n",
        "def TotalNilaiList(list1,list2):\n",
        " jumlah = sum(list1) + sum(list2)\n",
        " return jumlah\n",
        " \n",
        "tilist = [10,20,30,40,50,60,70,80,90,100]\n",
        "tilist2 = [110,120,130,140,150,160,170,180,190,200]\n",
        "2100\n",
        "TotalNilaiList(tilist,tilist2)"
      ]
    }
  ],
  "metadata": {
    "kernelspec": {
      "display_name": "Python 3",
      "language": "python",
      "name": "python3"
    },
    "language_info": {
      "codemirror_mode": {
        "name": "ipython",
        "version": 3
      },
      "file_extension": ".py",
      "mimetype": "text/x-python",
      "name": "python",
      "nbconvert_exporter": "python",
      "pygments_lexer": "ipython3",
      "version": "3.8.5"
    },
    "colab": {
      "provenance": []
    }
  },
  "nbformat": 4,
  "nbformat_minor": 0
}