{
  "cells": [
    {
      "cell_type": "markdown",
      "metadata": {
        "id": "uSQwnVvlrkwv"
      },
      "source": [
        "<h2>Pengertian</h2>\n",
        "<ol>\n",
        "    <li>Fungsi pada python adalah kumpulan perintah atau baris kode yang dikelompokkan menjadi satu kesatuan untuk kemudian bisa dipanggil atau digunakan berkali-kali.</li>\n",
        "    <li>Sebuah fungsi dapat menerima parameter, dapat mengembalikan suatu nilai, dan dapat dipanggil berkali-kali secara independen.</li>\n",
        "</ol>\n",
        "<hr>\n",
        "<h2>Keuntungan</h2>\n",
        "<ol>\n",
        "    <li>Membagi kode program menjadi bagian-bagian kecil dengan tugasnya masing-masing.</li>\n",
        "    <li>Membuat kode program menjadi lebih “reusable” dan lebih terstruktur.</li>\n",
        "</ol>\n",
        "<hr>\n",
        "<h2>Sintaks</h2>\n",
        "\n",
        "```python\n",
        "def function_name():\n",
        "    Logic Program\n",
        "```\n",
        "Cara memanggil fungsi dengan menuliskan function_name diikuti kurung buka tutup () beserta parameter jika ada\n",
        "\n",
        "```python\n",
        "    function_name()\n",
        "```\n",
        "<hr>\n",
        "Buatlah fungsi dengan nama \"helloPython\" yang berfungsi untuk mencetak \"Welcome in Python Language\" "
      ]
    },
    {
      "cell_type": "code",
      "execution_count": 1,
      "metadata": {
        "id": "z3mthmSZrkw7",
        "colab": {
          "base_uri": "https://localhost:8080/",
          "height": 0
        },
        "outputId": "10da033d-3d27-4518-ec25-fa947da376be"
      },
      "outputs": [
        {
          "output_type": "stream",
          "name": "stdout",
          "text": [
            "Welcom in Python Language\n"
          ]
        }
      ],
      "source": [
        "def helloPython():\n",
        "  print('Welcom in Python Language')\n",
        "helloPython()"
      ]
    },
    {
      "cell_type": "markdown",
      "metadata": {
        "id": "Gf2i_U3Prkw8"
      },
      "source": [
        "<h1>Fungsi dengan parameter</h1>\n",
        "Sebuah fungsi dapat menerima parameter ataupun argumen yang merupakan suatu nilai/variabel yang dilemparkan ke dalam fungsi untuk diproses lebih lanjut.\n",
        "\n",
        "<h2>Sintaks</h2>\n",
        "\n",
        "```python\n",
        "def function_name(param):\n",
        "    Logic Program\n",
        "```\n",
        "Cara memanggil fungsi dengan menuliskan function_name diikuti kurung buka tutup () beserta parameter\n",
        "\n",
        "```python\n",
        "    function_name(param)\n",
        "```\n",
        "<hr>"
      ]
    },
    {
      "cell_type": "markdown",
      "metadata": {
        "id": "mTe8eonPrkxA"
      },
      "source": [
        "Buatlah fungsi dengan nama \"fullName\" yang mempunyai parameter \"firstname\" dan \"lastname\" digunakan untuk mencetak \"firstname\" dan \"lastname\""
      ]
    },
    {
      "cell_type": "code",
      "execution_count": 28,
      "metadata": {
        "id": "YznVh9DqrkxC",
        "colab": {
          "base_uri": "https://localhost:8080/",
          "height": 0
        },
        "outputId": "2c769bcc-9f08-4b2d-85c6-fb1f99aed463"
      },
      "outputs": [
        {
          "output_type": "stream",
          "name": "stdout",
          "text": [
            "Rustiani Rustiani\n"
          ]
        }
      ],
      "source": [
        "def fullName(firstname,lastname):\n",
        " print(firstname,lastname)\n",
        " \n",
        "fullName(\"Rustiani\",\"Rustiani\")"
      ]
    },
    {
      "cell_type": "markdown",
      "metadata": {
        "id": "VIkWWhLRrkxD"
      },
      "source": [
        "Parameter fungsi diperbolehkan menggunakan lebih dari 1, dimana paramater tersebut ada yang wajib harus diisi dan ada yang tidak harus diisi\n",
        "\n",
        "```python\n",
        "def function_name(param_1, param_2, param_3,....):\n",
        "    Logic Program\n",
        "```\n",
        "\n",
        "Cara memanggil fungsi dengan menuliskan function_name diikuti kurung buka tutup () beserta parameter\n",
        "\n",
        "```python\n",
        "    function_name(param_1, param_2, param_3)\n",
        "```\n",
        "<hr>\n",
        "Buatlah fungsi dengan nama maxValue yang mempunyai parameter \"val_1\",\"val_2\" dan \"val_3\" yang bertujuan untuk mencari nilai terbesar dari 3 nilai tersebut"
      ]
    },
    {
      "cell_type": "code",
      "execution_count": 10,
      "metadata": {
        "id": "lda9UTTFrkxD",
        "colab": {
          "base_uri": "https://localhost:8080/",
          "height": 0
        },
        "outputId": "9bc91fe3-4a3e-430b-c980-2b2e15dc80ba"
      },
      "outputs": [
        {
          "output_type": "stream",
          "name": "stdout",
          "text": [
            "Input Val 1 = 1\n",
            "Input Val 2 = 2\n",
            "Input Val 3 = 3\n",
            "3\n"
          ]
        }
      ],
      "source": [
        "def maxValue(val_1,val_2,val_3):\n",
        " a = max(val_1,val_2,val_3)\n",
        " print(a)\n",
        " \n",
        "input_Val1,input_Val2,input_Val3 = int(input(\"Input Val 1 = \")),int(input(\"Input Val 2 = \")),int(input(\"Input Val 3 = \"))\n",
        "maxValue(input_Val1,input_Val2,input_Val3)"
      ]
    },
    {
      "cell_type": "markdown",
      "metadata": {
        "id": "4c6jTq7UrkxE"
      },
      "source": [
        "Parameter opsional digunakan pada fungsi dengan cara memberikan nilai default, artinya nilai parameter sudah diberikan terlebih dahulu tanpa dipanggil\n",
        "\n",
        "```python\n",
        "def function_name(param_1, param_2, param_3 = 'Nilai'):\n",
        "    Logic Program\n",
        "```"
      ]
    },
    {
      "cell_type": "markdown",
      "metadata": {
        "id": "e0Lzsk1krkxF"
      },
      "source": [
        "Buatlah fungsi \"countCircleArea\" dengan 2 parameter yaitu \"phi\" dan \"diameter\" dimana parameter phi mempunyai nilai default 3.14"
      ]
    },
    {
      "cell_type": "code",
      "execution_count": 19,
      "metadata": {
        "id": "0LToK1WorkxG",
        "colab": {
          "base_uri": "https://localhost:8080/",
          "height": 0
        },
        "outputId": "254037a3-81cd-4bb2-cc84-84407489fb45"
      },
      "outputs": [
        {
          "output_type": "stream",
          "name": "stdout",
          "text": [
            "masukan ruas lingkaranya = 20\n",
            "1256.0\n"
          ]
        }
      ],
      "source": [
        "def countCircleArea(ruas,phi = 3.14):\n",
        " \"\"\" luas lingkaran\"\"\"\n",
        " luas = phi*ruas*ruas\n",
        " print(luas)\n",
        "\n",
        "ruasnya = float(input('masukan ruas lingkaranya = '))\n",
        "\n",
        "countCircleArea(ruasnya)"
      ]
    },
    {
      "cell_type": "markdown",
      "metadata": {
        "id": "DKSXcaUgrkxG"
      },
      "source": [
        "Fungsi dengan 2 Parameter opsional juga dapat dilakukan pada Python. \n",
        "\n",
        "```python\n",
        "def info(suhu, daerah='Sukabumi', satuan = 'Celcius'):\n",
        "    print(f\"Suhu sekarang di {daerah} : {suhu} {satuan} \")\n",
        "```\n",
        "Adapun Cara memanggilnya\n",
        "\n",
        "```python\n",
        "    info(30)\n",
        "```"
      ]
    },
    {
      "cell_type": "code",
      "execution_count": 20,
      "metadata": {
        "id": "qBWQEFUxrkxH",
        "colab": {
          "base_uri": "https://localhost:8080/",
          "height": 0
        },
        "outputId": "be72b5e6-6425-42d3-d20f-220c592b94a1"
      },
      "outputs": [
        {
          "output_type": "stream",
          "name": "stdout",
          "text": [
            "Suhu sekarang di Sukabumi : 30 Celcius \n"
          ]
        }
      ],
      "source": [
        "#Cobalah fungsi tersebut pada area kode disini\n",
        "def info(suhu, daerah='Sukabumi', satuan = 'Celcius'):\n",
        " print(f\"Suhu sekarang di {daerah} : {suhu} {satuan} \")\n",
        " \n",
        "info(30)"
      ]
    },
    {
      "cell_type": "markdown",
      "metadata": {
        "id": "U7vjTin1rkxI"
      },
      "source": [
        "<h1>Fungsi dengan Return Value</h1>\n",
        "\n",
        "Yaitu fungsi dimana akhir dari programnya adalah nilai kembalian atau nilai balik. Artinya nilai dalam fungsi dapat ditampung lagi ke variabel lain untuk digunakan operasi lebih lanjut.\n",
        "\n",
        "Buatlah fungsi dengan return value yang digunakan untuk mengecek sebuah bilangan termasuk bilangan negatif, bilangan neteral(0) dan bilangan positif"
      ]
    },
    {
      "cell_type": "code",
      "execution_count": 21,
      "metadata": {
        "id": "1sEogWMzrkxJ",
        "colab": {
          "base_uri": "https://localhost:8080/",
          "height": 0
        },
        "outputId": "95229c9c-13f1-441a-fa8f-c7a48dc79f6f"
      },
      "outputs": [
        {
          "output_type": "stream",
          "name": "stdout",
          "text": [
            "input the value =1\n",
            "negatif\n"
          ]
        }
      ],
      "source": [
        "def FungsiReturn(val):\n",
        "  if val == 0:\n",
        "    return \"netral\"\n",
        "  elif val % 2 == 0:\n",
        "    return \"poisitif\"\n",
        "  else:\n",
        "    return \"negatif\"\n",
        "\n",
        "valinput = float(input('input the value ='))\n",
        "print(FungsiReturn(valinput))\n"
      ]
    },
    {
      "cell_type": "markdown",
      "metadata": {
        "id": "SJwfS_FFrkxL"
      },
      "source": [
        "<h3>Soal Latihan</h3>\n",
        "<ol>\n",
        "    <li>Buatlah fungsi untuk menjumlahkan total nilai dari list</li>\n",
        "    <li>Buatlah fungsi untuk mencari nilai terbesar dari sekumpulan list </li>\n",
        "    <li>Buatlah fungsi untuk menjumlahkan 2 buah list </li>\n",
        "</ol>\n"
      ]
    },
    {
      "cell_type": "code",
      "execution_count": 25,
      "metadata": {
        "id": "GX6vdDxArkxM",
        "colab": {
          "base_uri": "https://localhost:8080/",
          "height": 0
        },
        "outputId": "b4d91f98-d3be-4a28-ea58-65abee7938b9"
      },
      "outputs": [
        {
          "output_type": "execute_result",
          "data": {
            "text/plain": [
              "550"
            ]
          },
          "metadata": {},
          "execution_count": 25
        }
      ],
      "source": [
        "#Soal 1\n",
        "def TotalNilaiList(listnya):\n",
        " jumlah = sum(listnya)\n",
        " return jumlah\n",
        " \n",
        "tilist = [10,20,30,40,50,60,70,80,90,100]\n",
        "\n",
        "TotalNilaiList(tilist)"
      ]
    },
    {
      "cell_type": "code",
      "execution_count": 26,
      "metadata": {
        "id": "lV_YgkP0rkxN",
        "colab": {
          "base_uri": "https://localhost:8080/",
          "height": 0
        },
        "outputId": "b8e612fb-fe74-4be1-9f4a-f9432833be87"
      },
      "outputs": [
        {
          "output_type": "execute_result",
          "data": {
            "text/plain": [
              "100"
            ]
          },
          "metadata": {},
          "execution_count": 26
        }
      ],
      "source": [
        "#Soal 2\n",
        "def TotalNilaiList(listnya):\n",
        "  maxval = max(listnya)\n",
        "  return maxval\n",
        " \n",
        "tilist = [10,20,30,40,50,60,70,80,90,100]\n",
        "\n",
        "TotalNilaiList(tilist)"
      ]
    },
    {
      "cell_type": "code",
      "execution_count": 27,
      "metadata": {
        "id": "CMhlVQ2yrkxN",
        "colab": {
          "base_uri": "https://localhost:8080/",
          "height": 0
        },
        "outputId": "532ce789-cd4a-487d-ba67-74bf82ebb416"
      },
      "outputs": [
        {
          "output_type": "execute_result",
          "data": {
            "text/plain": [
              "2100"
            ]
          },
          "metadata": {},
          "execution_count": 27
        }
      ],
      "source": [
        "#Soal 3\n",
        "def TotalNilaiList(list1,list2):\n",
        " jumlah = sum(list1) + sum(list2)\n",
        " return jumlah\n",
        " \n",
        "tilist = [10,20,30,40,50,60,70,80,90,100]\n",
        "tilist2 = [110,120,130,140,150,160,170,180,190,200]\n",
        "2100\n",
        "TotalNilaiList(tilist,tilist2)"
      ]
    }
  ],
  "metadata": {
    "kernelspec": {
      "display_name": "Python 3",
      "language": "python",
      "name": "python3"
    },
    "language_info": {
      "codemirror_mode": {
        "name": "ipython",
        "version": 3
      },
      "file_extension": ".py",
      "mimetype": "text/x-python",
      "name": "python",
      "nbconvert_exporter": "python",
      "pygments_lexer": "ipython3",
      "version": "3.8.5"
    },
    "colab": {
      "provenance": []
    }
  },
  "nbformat": 4,
  "nbformat_minor": 0
}